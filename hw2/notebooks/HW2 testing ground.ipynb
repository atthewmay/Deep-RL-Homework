{
 "cells": [
  {
   "cell_type": "markdown",
   "metadata": {},
   "source": [
    "## Ensuring the NN shape outputs make sense"
   ]
  },
  {
   "cell_type": "code",
   "execution_count": 55,
   "metadata": {
    "collapsed": false
   },
   "outputs": [],
   "source": [
    "import tensorflow as tf\n",
    "# import tensorflow_probabilities as tfp\n",
    "import sys\n",
    "sys.path.insert(0, '../')\n",
    "from train_pg_f18 import build_mlp\n",
    "import matplotlib.pyplot as plt\n",
    "import numpy as np"
   ]
  },
  {
   "cell_type": "code",
   "execution_count": 4,
   "metadata": {
    "collapsed": false
   },
   "outputs": [],
   "source": [
    "sy_ob_no = tf.placeholder(shape=[None, 5], name=\"ob\", dtype=tf.float32)\n",
    "output_size = 5\n",
    "scope = 'yo'\n",
    "hidden_size = 20\n",
    "n_layers = 1\n",
    "\n",
    "output = build_mlp(sy_ob_no,output_size,scope,n_layers,hidden_size)"
   ]
  },
  {
   "cell_type": "code",
   "execution_count": 5,
   "metadata": {
    "collapsed": false
   },
   "outputs": [
    {
     "name": "stdout",
     "output_type": "stream",
     "text": [
      "Tensor(\"yo/fully_connected_1/BiasAdd:0\", shape=(?, 5), dtype=float32)\n",
      "(1, 5)\n"
     ]
    }
   ],
   "source": [
    "print(output)\n",
    "dummy_data = np.array([[.3,.7,.9,.6,.8]])\n",
    "print(dummy_data.shape)"
   ]
  },
  {
   "cell_type": "code",
   "execution_count": 6,
   "metadata": {
    "collapsed": false
   },
   "outputs": [
    {
     "name": "stdout",
     "output_type": "stream",
     "text": [
      "[[-0.53999096 -0.12600006  0.62857336  0.64132118  0.14903396]]\n"
     ]
    }
   ],
   "source": [
    "with tf.Session() as sess:\n",
    "    sess.run(tf.global_variables_initializer()) # I couldn't really move this around, bc it cam after the optimizer. \n",
    "    output_preds = sess.run(output,feed_dict = {sy_ob_no:dummy_data})\n",
    "    print (output_preds)"
   ]
  },
  {
   "cell_type": "code",
   "execution_count": 7,
   "metadata": {
    "collapsed": false
   },
   "outputs": [
    {
     "name": "stdout",
     "output_type": "stream",
     "text": [
      "(1, 5)\n"
     ]
    }
   ],
   "source": [
    "print(output_preds.shape)"
   ]
  },
  {
   "cell_type": "code",
   "execution_count": 8,
   "metadata": {
    "collapsed": false
   },
   "outputs": [
    {
     "data": {
      "text/plain": [
       "{0: 40139, 1: 49968, 2: 9893}"
      ]
     },
     "execution_count": 8,
     "metadata": {},
     "output_type": "execute_result"
    }
   ],
   "source": [
    "# samples = tf.multinomial([[0.4,0.5,0.1]],100000)\n",
    "samples = tf.multinomial(tf.log([[4.0,5.0,1.0]]),100000)\n",
    "\n",
    "\n",
    "with tf.Session() as sess:\n",
    "    output = sess.run(samples)\n",
    "unique, counts = np.unique(output, return_counts=True)\n",
    "dict(zip(unique, counts))\n"
   ]
  },
  {
   "cell_type": "code",
   "execution_count": 9,
   "metadata": {
    "collapsed": false
   },
   "outputs": [
    {
     "data": {
      "text/plain": [
       "'1.0.0'"
      ]
     },
     "execution_count": 9,
     "metadata": {},
     "output_type": "execute_result"
    }
   ],
   "source": [
    "tf.__version__\n"
   ]
  },
  {
   "cell_type": "markdown",
   "metadata": {},
   "source": [
    "### Demonstration of how to sample from the normal distribution"
   ]
  },
  {
   "cell_type": "code",
   "execution_count": 78,
   "metadata": {
    "collapsed": false
   },
   "outputs": [
    {
     "name": "stdout",
     "output_type": "stream",
     "text": [
      "[[ 1.37345386  0.30129188 -0.10639644 -0.06621715]\n",
      " [ 1.01591432  0.4846406   0.90930462  1.33892906]\n",
      " [ 0.53720313  0.58418894  0.21078295  0.0555799 ]]\n",
      "\n",
      " dt is \n",
      "[0 1 2]\n",
      "(3,)\n"
     ]
    }
   ],
   "source": [
    "mean_dim = [3,4]\n",
    "std_dim = [1,4]\n",
    "\n",
    "std_vals = np.random.rand(std_dim[0],std_dim[1])\n",
    "mean_vals = np.random.rand(mean_dim[0],mean_dim[1])\n",
    "\n",
    "mu = tf.placeholder(shape = mean_dim,dtype = tf.float32)\n",
    "std = tf.placeholder(shape = std_dim,dtype = tf.float32)\n",
    "samples_norm = tf.add(mu,tf.multiply(std,tf.random_normal(tf.shape(mu))))\n",
    "\n",
    "\n",
    "discrete_tester = tf.squeeze(tf.multinomial(samples_norm,1),axis = 1)\n",
    "\n",
    "\n",
    "with tf.Session() as sess:\n",
    "    output = sess.run(samples_norm,feed_dict = {mu:mean_vals,std:std_vals})\n",
    "    \n",
    "    dt = sess.run(discrete_tester,feed_dict = {mu:mean_vals,std:std_vals})\n",
    "    \n",
    "#     output = sess.run(tf.shape(samples_norm))\n",
    "# unique, counts = np.unique(output, return_counts=True)\n",
    "# dict(zip(unique, counts))\n",
    "\n",
    "print (output)\n",
    "\n",
    "print('\\n dt is ')\n",
    "print(dt)\n",
    "print(dt.shape)\n"
   ]
  },
  {
   "cell_type": "code",
   "execution_count": 21,
   "metadata": {
    "collapsed": false
   },
   "outputs": [
    {
     "name": "stdout",
     "output_type": "stream",
     "text": [
      "[[ 0.1871317   0.16587     0.4783242   0.1686741 ]\n",
      " [ 0.12187979  0.23101066  0.42859444  0.21851519]\n",
      " [ 0.13118604  0.14960441  0.43545118  0.28375834]]\n"
     ]
    }
   ],
   "source": [
    "vect = tf.placeholder(shape = output.shape,dtype = tf.float32)\n",
    "sm_out = tf.nn.softmax(vect)\n",
    "# selected_out = sm_out[2][2]\n",
    "\n",
    "chosen_actions = tf.constant([2,1,0])\n",
    "indexer = tf.stack([tf.range(0,tf.shape(chosen_actions)[0],1), chosen_actions], axis = 1)\n",
    "probs_of_chosen_actions = tf.gather_nd(sm_out,indexer)\n",
    "log_prob = tf.log(probs_of_chosen_actions)\n",
    "with tf.Session() as sess:\n",
    "    sm_vect = sess.run(sm_out,feed_dict = {vect:output})\n",
    "    \n",
    "    print(sm_vect)\n",
    "#     sm_vect_2 = sess.run(selected_out,feed_dict = {vect:output})\n",
    "#     print(sm_vect_2)\n",
    "\n",
    "#\n"
   ]
  },
  {
   "cell_type": "code",
   "execution_count": 22,
   "metadata": {
    "collapsed": false
   },
   "outputs": [
    {
     "name": "stdout",
     "output_type": "stream",
     "text": [
      "[ 0.4783242   0.23101066  0.13118604]\n",
      "[-0.73746651 -1.46529138 -2.0311389 ]\n"
     ]
    }
   ],
   "source": [
    "with tf.Session() as sess:\n",
    "    print(sess.run(probs_of_chosen_actions,feed_dict = {vect:output}))\n",
    "    print(sess.run(log_prob,feed_dict = {vect:output}))\n",
    "    "
   ]
  },
  {
   "cell_type": "markdown",
   "metadata": {},
   "source": [
    "### Now I'm trying to choose the appropriate action from my softmaxed vector of probabilities\n",
    "A for loop would be easy, but I think I need tf.gather_nd \n",
    "\n",
    "UGH, so I could either make a tensor like [[0,a0],[1,a1],[2,a2]] and then use gather_nd. or I could flatten my tensor\n",
    "of softmax and then make my chosen action tensor [a0 a1 a2...] into [a_dim*0+a0 adim*1+a1 ... ]\n",
    "\n",
    "AH! I need tf.stack"
   ]
  },
  {
   "cell_type": "code",
   "execution_count": 2,
   "metadata": {
    "collapsed": false
   },
   "outputs": [
    {
     "ename": "NameError",
     "evalue": "name 'p_of_chosen_actions' is not defined",
     "output_type": "error",
     "traceback": [
      "\u001b[0;31m---------------------------------------------------------------------------\u001b[0m",
      "\u001b[0;31mNameError\u001b[0m                                 Traceback (most recent call last)",
      "\u001b[0;32m<ipython-input-2-780b80d55ff8>\u001b[0m in \u001b[0;36m<module>\u001b[0;34m()\u001b[0m\n\u001b[1;32m      1\u001b[0m \u001b[0;32mwith\u001b[0m \u001b[0mtf\u001b[0m\u001b[0;34m.\u001b[0m\u001b[0mSession\u001b[0m\u001b[0;34m(\u001b[0m\u001b[0;34m)\u001b[0m \u001b[0;32mas\u001b[0m \u001b[0msess\u001b[0m\u001b[0;34m:\u001b[0m\u001b[0;34m\u001b[0m\u001b[0m\n\u001b[0;32m----> 2\u001b[0;31m     \u001b[0mp_CA\u001b[0m \u001b[0;34m=\u001b[0m \u001b[0msess\u001b[0m\u001b[0;34m.\u001b[0m\u001b[0mrun\u001b[0m\u001b[0;34m(\u001b[0m\u001b[0mp_of_chosen_actions\u001b[0m\u001b[0;34m,\u001b[0m\u001b[0mfeed_dict\u001b[0m \u001b[0;34m=\u001b[0m \u001b[0;34m{\u001b[0m\u001b[0mvect\u001b[0m\u001b[0;34m:\u001b[0m\u001b[0moutput\u001b[0m\u001b[0;34m}\u001b[0m\u001b[0;34m)\u001b[0m\u001b[0;34m\u001b[0m\u001b[0m\n\u001b[0m\u001b[1;32m      3\u001b[0m     \u001b[0mprint\u001b[0m\u001b[0;34m(\u001b[0m\u001b[0mp_CA\u001b[0m\u001b[0;34m)\u001b[0m\u001b[0;34m\u001b[0m\u001b[0m\n",
      "\u001b[0;31mNameError\u001b[0m: name 'p_of_chosen_actions' is not defined"
     ]
    }
   ],
   "source": [
    "with tf.Session() as sess:\n",
    "    p_CA = sess.run(p_of_chosen_actions,feed_dict = {vect:output})\n",
    "    print(p_CA)"
   ]
  },
  {
   "cell_type": "markdown",
   "metadata": {
    "collapsed": true
   },
   "source": [
    "## Now deal with the continuous case! Get the pdf(a_i) for each action component \"i\""
   ]
  },
  {
   "cell_type": "code",
   "execution_count": 27,
   "metadata": {
    "collapsed": false
   },
   "outputs": [
    {
     "name": "stdout",
     "output_type": "stream",
     "text": [
      "[[ 0.          0.21850783  2.55518436  0.70581532]\n",
      " [ 0.          0.72378755  2.68366957  2.00453758]\n",
      " [ 0.          0.26623872  2.66925383  2.71910143]]\n",
      "[ 2.55518436  2.68366957  2.71910143]\n"
     ]
    }
   ],
   "source": [
    "# x = tf.constant(5.0, shape=[5, 6])\n",
    "x = output\n",
    "w = tf.constant([0.0, 1.0, 2.0, 3.0])\n",
    "xw = tf.multiply(w, x)\n",
    "max_in_rows = tf.reduce_max(xw, 1)\n",
    "\n",
    "sess = tf.Session()\n",
    "print(sess.run(xw))\n",
    "# ==> [[0.0, 5.0, 10.0, 15.0, 20.0, 25.0],\n",
    "#      [0.0, 5.0, 10.0, 15.0, 20.0, 25.0],\n",
    "#      [0.0, 5.0, 10.0, 15.0, 20.0, 25.0],\n",
    "#      [0.0, 5.0, 10.0, 15.0, 20.0, 25.0],\n",
    "#      [0.0, 5.0, 10.0, 15.0, 20.0, 25.0]]\n",
    "\n",
    "print(sess.run(max_in_rows))\n",
    "# ==> [25.0, 25.0, 25.0, 25.0, 25.0]"
   ]
  },
  {
   "cell_type": "code",
   "execution_count": 80,
   "metadata": {
    "collapsed": false
   },
   "outputs": [
    {
     "name": "stdout",
     "output_type": "stream",
     "text": [
      "[[ 0.31127119  0.28142202  0.01284883  0.13900143]]\n",
      "[ -0.65995139 -36.02285385  -1.82592762]\n"
     ]
    }
   ],
   "source": [
    "import math as m\n",
    "two_pi = tf.constant(2*m.pi,dtype = tf.float32)\n",
    "\n",
    "\n",
    "diff_mat = mu #acting like this is a1-mu1\n",
    "sigma_square = tf.square(std)\n",
    "\n",
    "# with tf.Session() as sess:\n",
    "#     print(sess.run(tf.divide(diff_mat,sigma_square),feed_dict={std:np.random.rand(std_dim[0],std_dim[1])}))\n",
    "# one = tf.constant(1,dtype = tf.float23)\n",
    "first_term = tf.divide(tf.cast(1,tf.float32),tf.sqrt(tf.multiply(two_pi,sigma_square)))\n",
    "second_term = tf.exp(tf.negative(tf.divide(tf.square(diff_mat),tf.multiply(tf.cast(2,tf.float32),sigma_square))))\n",
    "pdf_output = tf.multiply(first_term,second_term)\n",
    "\n",
    "log_pdf = tf.log(pdf_output)\n",
    "sy_logprob_n = tf.reduce_sum(log_pdf,1) \n",
    "with tf.Session() as sess:\n",
    "    print(sess.run(sigma_square,feed_dict={std:std_vals}))\n",
    "    print(sess.run(sy_logprob_n,feed_dict={std:std_vals, diff_mat:mean_vals}))\n",
    "\n"
   ]
  },
  {
   "cell_type": "markdown",
   "metadata": {},
   "source": [
    "### Note we should test it by making a graph of the pdf of the normal dist!\n",
    "\n",
    "And yep, it works in the multidimensional case!!!\n",
    "Everything set to go.\n",
    "\n",
    "\n"
   ]
  },
  {
   "cell_type": "code",
   "execution_count": 75,
   "metadata": {
    "collapsed": false
   },
   "outputs": [
    {
     "name": "stdout",
     "output_type": "stream",
     "text": [
      "(1, 100)\n"
     ]
    },
    {
     "data": {
      "image/png": "[encoded data removed]",
      "text/plain": [
       "<matplotlib.figure.Figure at 0x1229fe208>"
      ]
     },
     "metadata": {},
     "output_type": "display_data"
    }
   ],
   "source": [
    "tester_shape = [2,100]\n",
    "test_diff_mat = tf.placeholder(shape = tester_shape,dtype = tf.float32)\n",
    "test_sigma_square = tf.placeholder(shape = tester_shape,dtype = tf.float32)\n",
    "\n",
    "test_values_diff_mat = np.array([np.linspace(-15,15,tester_shape[1])])\n",
    "test_values_diff_mat2 = np.array([np.linspace(-13,17,tester_shape[1])])\n",
    "tvdm = np.concatenate((test_values_diff_mat,test_values_diff_mat2),axis = 0)\n",
    "\n",
    "test_values_sigma_square = np.array(np.ones([1,100])*25)\n",
    "test_values_sigma_square2 = np.array(np.ones([1,100])*16)\n",
    "tvss = np.concatenate((test_values_sigma_square,test_values_sigma_square2),axis = 0)\n",
    "print(test_values_sigma_square.shape)\n",
    "\n",
    "test_first_term = tf.divide(tf.cast(1,tf.float32),tf.sqrt(tf.multiply(two_pi,test_sigma_square)))\n",
    "test_second_term = tf.exp(tf.negative(tf.divide(tf.square(test_diff_mat),tf.multiply(tf.cast(2,tf.float32),test_sigma_square))))\n",
    "test_pdf_output = tf.multiply(test_first_term,test_second_term)\n",
    "\n",
    "\n",
    "\n",
    "with tf.Session() as sess:\n",
    "#     to_plot = sess.run(test_pdf_output,feed_dict={test_sigma_square:test_values_sigma_square, test_diff_mat:test_values_diff_mat})\n",
    "#     to_plot2 = sess.run(test_pdf_output,feed_dict={test_sigma_square:test_values_sigma_square2, test_diff_mat:test_values_diff_mat2})\n",
    "    to_plot = sess.run(test_pdf_output,feed_dict={test_sigma_square:tvss, test_diff_mat:tvdm})\n",
    "\n",
    "\n",
    "# plt.figure()\n",
    "# plt.plot(test_values_diff_mat[0],to_plot[0])\n",
    "# plt.plot(test_values_diff_mat[0],to_plot2[0])\n",
    "# plt.show()\n",
    "\n",
    "plt.figure()\n",
    "plt.plot(test_values_diff_mat[0],to_plot[0])\n",
    "plt.plot(test_values_diff_mat[0],to_plot[1])\n",
    "plt.show()\n",
    "\n"
   ]
  },
  {
   "cell_type": "markdown",
   "metadata": {},
   "source": [
    "## making the sum_of_reward"
   ]
  },
  {
   "cell_type": "code",
   "execution_count": 90,
   "metadata": {
    "collapsed": false
   },
   "outputs": [
    {
     "name": "stdout",
     "output_type": "stream",
     "text": [
      "[[ 1.  1.  1.  1.]\n",
      " [ 1.  1.  1.  1.]\n",
      " [ 1.  1.  1.  1.]]\n",
      "3.439\n",
      "3.439\n",
      "3.439\n"
     ]
    }
   ],
   "source": [
    "re_n = np.ones(shape = [3,4])\n",
    "print(re_n)\n",
    "gamma = 0.9\n",
    "for re_path in re_n:\n",
    "    print(np.sum([(gamma**j)*re_path[j] for j in range(len(re_path))]))"
   ]
  },
  {
   "cell_type": "markdown",
   "metadata": {},
   "source": [
    "#### This shows that the double-nested list comprehension makes the reward to-go-vector\n",
    "\n",
    "reward to go is first, and then total reward (with discounts too) is next print out"
   ]
  },
  {
   "cell_type": "code",
   "execution_count": 106,
   "metadata": {
    "collapsed": false
   },
   "outputs": [
    {
     "name": "stdout",
     "output_type": "stream",
     "text": [
      "3.439\n",
      "3.439\n",
      "3.439\n",
      "[ 3.439  2.71   1.9    1.     3.439  2.71   1.9    1.     3.439  2.71   1.9\n",
      "  1.   ]\n",
      "(12,)\n"
     ]
    }
   ],
   "source": [
    "q_n = np.array([])\n",
    "for re_single_path in re_n:\n",
    "#     q_t = [(gamma**j)*re_single_path[j] for j in range(len(re_single_path))]\n",
    "    q_t_vector = [np.sum([(gamma**i)*(re_single_path[j+i]) for i in range(len(re_single_path)-j)]) for j in range(len(re_single_path))] # Seems wrong, but i guess we sum this entire thing...\n",
    "#     q_t_vector = [q_t for j in range(len(re_single_path))]\n",
    "    q_n = np.append(q_n,q_t_vector)\n",
    "    print(q_t)\n",
    "\n",
    "print(q_n)\n",
    "    \n",
    "\n",
    "q_n = np.array([])\n",
    "for re_single_path in re_n:\n",
    "    q_t = np.sum([(gamma**j)*re_single_path[j] for j in range(len(re_single_path))])  # Seems wrong, but i guess we sum this entire thing...\n",
    "    q_t_vector = [q_t for j in range(len(re_single_path))]\n",
    "    q_n = np.append(q_n,q_t_vector)\n",
    "print(q_n.shape)\n",
    "\n"
   ]
  },
  {
   "cell_type": "code",
   "execution_count": 108,
   "metadata": {
    "collapsed": false
   },
   "outputs": [
    {
     "name": "stdout",
     "output_type": "stream",
     "text": [
      "HW2 testing ground.ipynb                Untitled.ipynb\r\n",
      "Homework 2 terminals and readouts.ipynb \u001b[34mdata\u001b[m\u001b[m\r\n"
     ]
    }
   ],
   "source": [
    "!ls"
   ]
  },
  {
   "cell_type": "code",
   "execution_count": 111,
   "metadata": {
    "collapsed": false
   },
   "outputs": [
    {
     "name": "stdout",
     "output_type": "stream",
     "text": [
      "Traceback (most recent call last):\r\n",
      "  File \"../plot.py\", line 120, in <module>\r\n",
      "    main()\r\n",
      "  File \"../plot.py\", line 110, in main\r\n",
      "    data += get_datasets(logdir)\r\n",
      "  File \"../plot.py\", line 71, in get_datasets\r\n",
      "    experiment_data = pd.read_table(log_path)\r\n",
      "  File \"/Users/matthewhunt/anaconda/lib/python3.6/site-packages/pandas/io/parsers.py\", line 646, in parser_f\r\n",
      "    return _read(filepath_or_buffer, kwds)\r\n",
      "  File \"/Users/matthewhunt/anaconda/lib/python3.6/site-packages/pandas/io/parsers.py\", line 389, in _read\r\n",
      "    parser = TextFileReader(filepath_or_buffer, **kwds)\r\n",
      "  File \"/Users/matthewhunt/anaconda/lib/python3.6/site-packages/pandas/io/parsers.py\", line 730, in __init__\r\n",
      "    self._make_engine(self.engine)\r\n",
      "  File \"/Users/matthewhunt/anaconda/lib/python3.6/site-packages/pandas/io/parsers.py\", line 923, in _make_engine\r\n",
      "    self._engine = CParserWrapper(self.f, **self.options)\r\n",
      "  File \"/Users/matthewhunt/anaconda/lib/python3.6/site-packages/pandas/io/parsers.py\", line 1390, in __init__\r\n",
      "    self._reader = _parser.TextReader(src, **kwds)\r\n",
      "  File \"pandas/parser.pyx\", line 538, in pandas.parser.TextReader.__cinit__ (pandas/parser.c:6171)\r\n",
      "pandas.io.common.EmptyDataError: No columns to parse from file\r\n"
     ]
    }
   ],
   "source": [
    "! python ../plot.py ../data/sb_no_rtg_dna_CartPole-v0_10-09-2019_17-26-03/ --value AverageReturn"
   ]
  },
  {
   "cell_type": "code",
   "execution_count": null,
   "metadata": {
    "collapsed": true
   },
   "outputs": [],
   "source": []
  }
 ],
 "metadata": {
  "kernelspec": {
   "display_name": "Python 3",
   "language": "python",
   "name": "python3"
  },
  "language_info": {
   "codemirror_mode": {
    "name": "ipython",
    "version": 3
   },
   "file_extension": ".py",
   "mimetype": "text/x-python",
   "name": "python",
   "nbconvert_exporter": "python",
   "pygments_lexer": "ipython3",
   "version": "3.6.0"
  }
 },
 "nbformat": 4,
 "nbformat_minor": 2
}
